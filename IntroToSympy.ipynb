{
  "nbformat": 4,
  "nbformat_minor": 0,
  "metadata": {
    "colab": {
      "name": "IntroToSympy.ipynb",
      "provenance": [],
      "include_colab_link": true
    },
    "kernelspec": {
      "name": "python3",
      "display_name": "Python 3"
    }
  },
  "cells": [
    {
      "cell_type": "markdown",
      "metadata": {
        "id": "view-in-github",
        "colab_type": "text"
      },
      "source": [
        "<a href=\"https://colab.research.google.com/github/IonImpulse/M400/blob/master/IntroToSympy.ipynb\" target=\"_parent\"><img src=\"https://colab.research.google.com/assets/colab-badge.svg\" alt=\"Open In Colab\"/></a>"
      ]
    },
    {
      "cell_type": "markdown",
      "metadata": {
        "id": "Y1VCCJLQVGc4",
        "colab_type": "text"
      },
      "source": [
        "<h1>Introduction to Python and Sympy</h1>"
      ]
    },
    {
      "cell_type": "markdown",
      "metadata": {
        "id": "VExhOUzGW-ps",
        "colab_type": "text"
      },
      "source": [
        "# Arithmetic in Python"
      ]
    },
    {
      "cell_type": "markdown",
      "metadata": {
        "id": "nMbmteTFXGsj",
        "colab_type": "text"
      },
      "source": [
        "Python can be used to perform basic arithmetic between real numbers."
      ]
    },
    {
      "cell_type": "code",
      "metadata": {
        "id": "4t1d7LGyXMHH",
        "colab_type": "code",
        "outputId": "74b84357-c25e-4d74-9fc8-127f20a5524d",
        "colab": {
          "base_uri": "https://localhost:8080/",
          "height": 34
        }
      },
      "source": [
        "1+2"
      ],
      "execution_count": 0,
      "outputs": [
        {
          "output_type": "execute_result",
          "data": {
            "text/plain": [
              "3"
            ]
          },
          "metadata": {
            "tags": []
          },
          "execution_count": 8
        }
      ]
    },
    {
      "cell_type": "code",
      "metadata": {
        "id": "Qfsci44hXlrg",
        "colab_type": "code",
        "outputId": "6f578b78-7f7b-4ba9-ffb0-d10e6964411e",
        "colab": {
          "base_uri": "https://localhost:8080/",
          "height": 34
        }
      },
      "source": [
        "9-2.3"
      ],
      "execution_count": 0,
      "outputs": [
        {
          "output_type": "execute_result",
          "data": {
            "text/plain": [
              "6.7"
            ]
          },
          "metadata": {
            "tags": []
          },
          "execution_count": 13
        }
      ]
    },
    {
      "cell_type": "code",
      "metadata": {
        "id": "l5cf8rNBXOSt",
        "colab_type": "code",
        "outputId": "cca07ff9-f8d0-40f3-aa72-c2ea858e7eae",
        "colab": {
          "base_uri": "https://localhost:8080/",
          "height": 34
        }
      },
      "source": [
        "3*4.12"
      ],
      "execution_count": 0,
      "outputs": [
        {
          "output_type": "execute_result",
          "data": {
            "text/plain": [
              "12.36"
            ]
          },
          "metadata": {
            "tags": []
          },
          "execution_count": 10
        }
      ]
    },
    {
      "cell_type": "code",
      "metadata": {
        "id": "qX8rK87gXku9",
        "colab_type": "code",
        "outputId": "a272823d-4211-42a2-e4bd-208c1aab65f5",
        "colab": {
          "base_uri": "https://localhost:8080/",
          "height": 34
        }
      },
      "source": [
        "9/2 # Division did not always work like this in Python. The safest way to perform this division would be 9.0/2.0"
      ],
      "execution_count": 0,
      "outputs": [
        {
          "output_type": "execute_result",
          "data": {
            "text/plain": [
              "4.5"
            ]
          },
          "metadata": {
            "tags": []
          },
          "execution_count": 19
        }
      ]
    },
    {
      "cell_type": "code",
      "metadata": {
        "id": "VZtN9bY9XREl",
        "colab_type": "code",
        "outputId": "004d6b5d-ad42-456a-b2c4-8c4c2e88f455",
        "colab": {
          "base_uri": "https://localhost:8080/",
          "height": 34
        }
      },
      "source": [
        "7**2 # Exponentiation is performed using ** between the base and exponent"
      ],
      "execution_count": 0,
      "outputs": [
        {
          "output_type": "execute_result",
          "data": {
            "text/plain": [
              "49"
            ]
          },
          "metadata": {
            "tags": []
          },
          "execution_count": 18
        }
      ]
    },
    {
      "cell_type": "markdown",
      "metadata": {
        "id": "zANGUIIHVQrb",
        "colab_type": "text"
      },
      "source": [
        "# Python Variables and Types"
      ]
    },
    {
      "cell_type": "markdown",
      "metadata": {
        "id": "2H1wWIu8Vd3e",
        "colab_type": "text"
      },
      "source": [
        "Python is what's known as a dynamically typed, interpreted programming language. It's dynamically typed, because unlike other programming languages, you don't need to specify the types of objects; it just knows (most of the time). For instance, if you want to create variables x and y, you can do the following."
      ]
    },
    {
      "cell_type": "code",
      "metadata": {
        "id": "rAoe9-LDVlYU",
        "colab_type": "code",
        "colab": {}
      },
      "source": [
        "x = 1\n",
        "y = \"Hello\""
      ],
      "execution_count": 0,
      "outputs": []
    },
    {
      "cell_type": "markdown",
      "metadata": {
        "id": "swZt8iGxWJDw",
        "colab_type": "text"
      },
      "source": [
        "x is an integer, and we can see that by asking Python what the type of x is."
      ]
    },
    {
      "cell_type": "code",
      "metadata": {
        "id": "GnFVp4WGWDpx",
        "colab_type": "code",
        "outputId": "21acdad2-86a7-4787-b035-05f8adcacab0",
        "colab": {
          "base_uri": "https://localhost:8080/",
          "height": 34
        }
      },
      "source": [
        "type(x)"
      ],
      "execution_count": 0,
      "outputs": [
        {
          "output_type": "execute_result",
          "data": {
            "text/plain": [
              "int"
            ]
          },
          "metadata": {
            "tags": []
          },
          "execution_count": 2
        }
      ]
    },
    {
      "cell_type": "markdown",
      "metadata": {
        "id": "O6hKFw17WUeE",
        "colab_type": "text"
      },
      "source": [
        "y is what's called a string, which you can think of as plain text. In Python, we type strings by including \"\" around the text."
      ]
    },
    {
      "cell_type": "code",
      "metadata": {
        "id": "xER64H8aWQha",
        "colab_type": "code",
        "outputId": "ca8947e6-d4cf-4142-e4c7-aecea90f4555",
        "colab": {
          "base_uri": "https://localhost:8080/",
          "height": 34
        }
      },
      "source": [
        "type(y)"
      ],
      "execution_count": 0,
      "outputs": [
        {
          "output_type": "execute_result",
          "data": {
            "text/plain": [
              "str"
            ]
          },
          "metadata": {
            "tags": []
          },
          "execution_count": 3
        }
      ]
    },
    {
      "cell_type": "markdown",
      "metadata": {
        "id": "NjVCP5gvWlX1",
        "colab_type": "text"
      },
      "source": [
        "Other types in Python that will come up often are float (decimals) and bool (True or False)."
      ]
    },
    {
      "cell_type": "code",
      "metadata": {
        "id": "ueKOq0heWkLV",
        "colab_type": "code",
        "outputId": "83325c8b-5915-4468-b364-996754c34cec",
        "colab": {
          "base_uri": "https://localhost:8080/",
          "height": 34
        }
      },
      "source": [
        "type(3.14)"
      ],
      "execution_count": 0,
      "outputs": [
        {
          "output_type": "execute_result",
          "data": {
            "text/plain": [
              "float"
            ]
          },
          "metadata": {
            "tags": []
          },
          "execution_count": 6
        }
      ]
    },
    {
      "cell_type": "code",
      "metadata": {
        "id": "j208yW27WpXg",
        "colab_type": "code",
        "outputId": "4328be67-9483-4c2e-c0a2-aa7d216dd69d",
        "colab": {
          "base_uri": "https://localhost:8080/",
          "height": 34
        }
      },
      "source": [
        "type(True)"
      ],
      "execution_count": 0,
      "outputs": [
        {
          "output_type": "execute_result",
          "data": {
            "text/plain": [
              "bool"
            ]
          },
          "metadata": {
            "tags": []
          },
          "execution_count": 7
        }
      ]
    },
    {
      "cell_type": "markdown",
      "metadata": {
        "id": "UKF5rdNbYHNJ",
        "colab_type": "text"
      },
      "source": [
        "# More Complex Arithmetic"
      ]
    },
    {
      "cell_type": "markdown",
      "metadata": {
        "id": "VH7VBNztYXtE",
        "colab_type": "text"
      },
      "source": [
        "In order to use more complicated mathematical operations and functions, we need to import the numpy package (the math package would also contain these functions, but numpy will be more applicable to the problems we will need Python for). In general, packages are libraries of code/functions that serve a specific purpose. We can import numpy using the following code:"
      ]
    },
    {
      "cell_type": "code",
      "metadata": {
        "id": "_z_dIpjnW2B0",
        "colab_type": "code",
        "colab": {}
      },
      "source": [
        "import numpy as np # np will serve as an alias for numpy so we don't have to type numpy every time we use it."
      ],
      "execution_count": 0,
      "outputs": []
    },
    {
      "cell_type": "markdown",
      "metadata": {
        "id": "zzBI88g_ZBzj",
        "colab_type": "text"
      },
      "source": [
        "numpy contains many common functions like the square root function, trigonometric functions, and even the absolute value function. To use these functions, you can type np.**function**(*some value*). For example,"
      ]
    },
    {
      "cell_type": "code",
      "metadata": {
        "id": "tbC5zzvLYOGr",
        "colab_type": "code",
        "outputId": "7721a430-5b9e-46e6-990b-f1bb33cfffb2",
        "colab": {
          "base_uri": "https://localhost:8080/",
          "height": 34
        }
      },
      "source": [
        "np.cos(2)"
      ],
      "execution_count": 0,
      "outputs": [
        {
          "output_type": "execute_result",
          "data": {
            "text/plain": [
              "-0.4161468365471424"
            ]
          },
          "metadata": {
            "tags": []
          },
          "execution_count": 27
        }
      ]
    },
    {
      "cell_type": "code",
      "metadata": {
        "id": "noHFy6EXYSOQ",
        "colab_type": "code",
        "outputId": "3db303ac-9939-4e6e-ad1b-ea699481bf43",
        "colab": {
          "base_uri": "https://localhost:8080/",
          "height": 34
        }
      },
      "source": [
        "np.sqrt(81)"
      ],
      "execution_count": 0,
      "outputs": [
        {
          "output_type": "execute_result",
          "data": {
            "text/plain": [
              "9.0"
            ]
          },
          "metadata": {
            "tags": []
          },
          "execution_count": 28
        }
      ]
    },
    {
      "cell_type": "code",
      "metadata": {
        "id": "PaWLd887Zfi1",
        "colab_type": "code",
        "outputId": "78e22bd6-4f18-453c-8872-5d885034e116",
        "colab": {
          "base_uri": "https://localhost:8080/",
          "height": 34
        }
      },
      "source": [
        "np.abs(-30)"
      ],
      "execution_count": 0,
      "outputs": [
        {
          "output_type": "execute_result",
          "data": {
            "text/plain": [
              "30"
            ]
          },
          "metadata": {
            "tags": []
          },
          "execution_count": 29
        }
      ]
    },
    {
      "cell_type": "markdown",
      "metadata": {
        "id": "mxPZkAN8ZknU",
        "colab_type": "text"
      },
      "source": [
        "numpy also contains common mathematical constants such as $\\pi$ and $e$"
      ]
    },
    {
      "cell_type": "code",
      "metadata": {
        "id": "loQuLYlVZhov",
        "colab_type": "code",
        "outputId": "3921ffbb-2e8b-41f7-892e-0a715e2d7b52",
        "colab": {
          "base_uri": "https://localhost:8080/",
          "height": 34
        }
      },
      "source": [
        "np.pi"
      ],
      "execution_count": 0,
      "outputs": [
        {
          "output_type": "execute_result",
          "data": {
            "text/plain": [
              "3.141592653589793"
            ]
          },
          "metadata": {
            "tags": []
          },
          "execution_count": 30
        }
      ]
    },
    {
      "cell_type": "code",
      "metadata": {
        "id": "ykH--KTiZsqa",
        "colab_type": "code",
        "outputId": "f9c6c749-0358-451f-cfc4-7870e7b840c6",
        "colab": {
          "base_uri": "https://localhost:8080/",
          "height": 34
        }
      },
      "source": [
        "np.e"
      ],
      "execution_count": 0,
      "outputs": [
        {
          "output_type": "execute_result",
          "data": {
            "text/plain": [
              "2.718281828459045"
            ]
          },
          "metadata": {
            "tags": []
          },
          "execution_count": 31
        }
      ]
    },
    {
      "cell_type": "markdown",
      "metadata": {
        "id": "j8-0K5Lqa35B",
        "colab_type": "text"
      },
      "source": [
        "# Sympy and Symbolic Mathematics"
      ]
    },
    {
      "cell_type": "markdown",
      "metadata": {
        "id": "-mbfm27Da9AU",
        "colab_type": "text"
      },
      "source": [
        "Sympy is a package to perform symbolic mathematics, meaning we can store and manipulate mathematical symbols as if they were like any other data type. To import Sympy and all its sub-packages, we can do the following:"
      ]
    },
    {
      "cell_type": "code",
      "metadata": {
        "id": "e1hpiwXSZvV7",
        "colab_type": "code",
        "colab": {}
      },
      "source": [
        "from sympy import * # Importing this way allows us to get all the sub-packages of sympy and allows us to refer to\n",
        "                    # the sub-packages without typing sympy.function"
      ],
      "execution_count": 0,
      "outputs": []
    },
    {
      "cell_type": "markdown",
      "metadata": {
        "id": "VHI75LzKbW01",
        "colab_type": "text"
      },
      "source": [
        "Documentation for Sympy can be found [here](https://docs.sympy.org/latest/index.html). Sympy contains many of the same functions as numpy, except there is one big difference as demonstrated in the following examples:"
      ]
    },
    {
      "cell_type": "code",
      "metadata": {
        "id": "oduqpPVMbT5D",
        "colab_type": "code",
        "outputId": "3048aab0-161a-4499-b404-e7b373381428",
        "colab": {
          "base_uri": "https://localhost:8080/",
          "height": 34
        }
      },
      "source": [
        "sqrt(84)"
      ],
      "execution_count": 0,
      "outputs": [
        {
          "output_type": "execute_result",
          "data": {
            "text/plain": [
              "2*sqrt(21)"
            ]
          },
          "metadata": {
            "tags": []
          },
          "execution_count": 35
        }
      ]
    },
    {
      "cell_type": "code",
      "metadata": {
        "id": "FJEcEg14cSKZ",
        "colab_type": "code",
        "outputId": "9fb89a6f-c053-4caf-d827-33cf26a4e883",
        "colab": {
          "base_uri": "https://localhost:8080/",
          "height": 34
        }
      },
      "source": [
        "cos(2)"
      ],
      "execution_count": 0,
      "outputs": [
        {
          "output_type": "execute_result",
          "data": {
            "text/plain": [
              "cos(2)"
            ]
          },
          "metadata": {
            "tags": []
          },
          "execution_count": 39
        }
      ]
    },
    {
      "cell_type": "markdown",
      "metadata": {
        "id": "bwhTFBfkcZn5",
        "colab_type": "text"
      },
      "source": [
        "Sympy creates symbols for the value you're trying to calculate instead of just evaluating the function and getting a value. If we want, we can turn symbols like the ones above into values by using the evalf function like below."
      ]
    },
    {
      "cell_type": "code",
      "metadata": {
        "id": "eqkx0W9ecTwf",
        "colab_type": "code",
        "outputId": "79f39d29-587a-4bff-be6c-8705940e9fe7",
        "colab": {
          "base_uri": "https://localhost:8080/",
          "height": 34
        }
      },
      "source": [
        "sqrt(84).evalf()"
      ],
      "execution_count": 0,
      "outputs": [
        {
          "output_type": "execute_result",
          "data": {
            "text/plain": [
              "9.16515138991168"
            ]
          },
          "metadata": {
            "tags": []
          },
          "execution_count": 42
        }
      ]
    },
    {
      "cell_type": "code",
      "metadata": {
        "id": "dz6ncouMcwMc",
        "colab_type": "code",
        "outputId": "5dc78edc-895a-49ad-8134-47927b204a9d",
        "colab": {
          "base_uri": "https://localhost:8080/",
          "height": 34
        }
      },
      "source": [
        "cos(2).evalf()"
      ],
      "execution_count": 0,
      "outputs": [
        {
          "output_type": "execute_result",
          "data": {
            "text/plain": [
              "-0.416146836547142"
            ]
          },
          "metadata": {
            "tags": []
          },
          "execution_count": 43
        }
      ]
    },
    {
      "cell_type": "markdown",
      "metadata": {
        "id": "5Po2UTDQdIZ3",
        "colab_type": "text"
      },
      "source": [
        "Sympy can even create symbols with variables. To do this, we have to create the variables before using them in our symbols."
      ]
    },
    {
      "cell_type": "code",
      "metadata": {
        "id": "CB1_C1cecxux",
        "colab_type": "code",
        "colab": {}
      },
      "source": [
        "x = symbols('x')"
      ],
      "execution_count": 0,
      "outputs": []
    },
    {
      "cell_type": "code",
      "metadata": {
        "id": "UJ8-5MsZdXLW",
        "colab_type": "code",
        "colab": {}
      },
      "source": [
        "y = symbols('y')"
      ],
      "execution_count": 0,
      "outputs": []
    },
    {
      "cell_type": "markdown",
      "metadata": {
        "id": "8KJM7BDsdelU",
        "colab_type": "text"
      },
      "source": [
        "Now, we can use x and y as variables in any function available in sympy."
      ]
    },
    {
      "cell_type": "code",
      "metadata": {
        "id": "6MgcBtu8dbBd",
        "colab_type": "code",
        "outputId": "484a4694-9bf4-4e65-b524-4abcff741288",
        "colab": {
          "base_uri": "https://localhost:8080/",
          "height": 34
        }
      },
      "source": [
        "sqrt(x)"
      ],
      "execution_count": 0,
      "outputs": [
        {
          "output_type": "execute_result",
          "data": {
            "text/plain": [
              "sqrt(x)"
            ]
          },
          "metadata": {
            "tags": []
          },
          "execution_count": 48
        }
      ]
    },
    {
      "cell_type": "code",
      "metadata": {
        "id": "XM545Gv6dbt_",
        "colab_type": "code",
        "outputId": "208ee633-6b42-402a-c8ed-a50a18392604",
        "colab": {
          "base_uri": "https://localhost:8080/",
          "height": 34
        }
      },
      "source": [
        "cos(y)"
      ],
      "execution_count": 0,
      "outputs": [
        {
          "output_type": "execute_result",
          "data": {
            "text/plain": [
              "cos(y)"
            ]
          },
          "metadata": {
            "tags": []
          },
          "execution_count": 49
        }
      ]
    },
    {
      "cell_type": "markdown",
      "metadata": {
        "id": "qvGRggPNdp1D",
        "colab_type": "text"
      },
      "source": [
        "If we want to simplify the creation of our variables, we can combine their assignments into one line."
      ]
    },
    {
      "cell_type": "code",
      "metadata": {
        "id": "KAzC18Y4dmsi",
        "colab_type": "code",
        "colab": {}
      },
      "source": [
        "x, y = symbols('x y')"
      ],
      "execution_count": 0,
      "outputs": []
    },
    {
      "cell_type": "markdown",
      "metadata": {
        "id": "5pPFFzL4d3Cj",
        "colab_type": "text"
      },
      "source": [
        "We can create more complex expressions/symbols in sympy by using any arithmetical operation and/or function."
      ]
    },
    {
      "cell_type": "code",
      "metadata": {
        "id": "K-9FUWi4d1wX",
        "colab_type": "code",
        "outputId": "36577bf4-9787-4649-9e47-5f210281e3d1",
        "colab": {
          "base_uri": "https://localhost:8080/",
          "height": 34
        }
      },
      "source": [
        "sqrt(x**2+y**2) + cos(x*y)"
      ],
      "execution_count": 0,
      "outputs": [
        {
          "output_type": "execute_result",
          "data": {
            "text/plain": [
              "sqrt(x**2 + y**2) + cos(x*y)"
            ]
          },
          "metadata": {
            "tags": []
          },
          "execution_count": 55
        }
      ]
    },
    {
      "cell_type": "markdown",
      "metadata": {
        "id": "fllmlKKqiEqV",
        "colab_type": "text"
      },
      "source": [
        "We can even create equations as symbols in sympy. For example, we can create a symbolic version of $y^2=x^3+3x+2$."
      ]
    },
    {
      "cell_type": "code",
      "metadata": {
        "id": "ljS_5Z1eiQVz",
        "colab_type": "code",
        "outputId": "a29a4767-8773-4ada-ce77-e2715679a599",
        "colab": {
          "base_uri": "https://localhost:8080/",
          "height": 34
        }
      },
      "source": [
        "Eq(y**2,x**3+3*x+2)"
      ],
      "execution_count": 0,
      "outputs": [
        {
          "output_type": "execute_result",
          "data": {
            "text/plain": [
              "Eq(y**2, x**3 + 3*x + 2)"
            ]
          },
          "metadata": {
            "tags": []
          },
          "execution_count": 70
        }
      ]
    },
    {
      "cell_type": "markdown",
      "metadata": {
        "id": "PkewzK2jeqAH",
        "colab_type": "text"
      },
      "source": [
        "# Solving Equations with Sympy"
      ]
    },
    {
      "cell_type": "markdown",
      "metadata": {
        "id": "jOiwugaBevr2",
        "colab_type": "text"
      },
      "source": [
        "Sympy can be used to solve equations of the form $f(x)=0$. For example, if we want to solve the equations $x^2-2=0$ and $\\cos x=0$, we can use the following lines of code:"
      ]
    },
    {
      "cell_type": "code",
      "metadata": {
        "id": "YOgT6pFyeuLc",
        "colab_type": "code",
        "outputId": "fc418839-358e-4d0e-b0cc-694ed9b174a5",
        "colab": {
          "base_uri": "https://localhost:8080/",
          "height": 34
        }
      },
      "source": [
        "solve(x**2-2,x) # The first input for solve is the equation we are wanting to solve and the second is the variable we are solving for.\n",
        "                # The variable needs to be created as a symbol first before using it in any sympy function."
      ],
      "execution_count": 0,
      "outputs": [
        {
          "output_type": "execute_result",
          "data": {
            "text/plain": [
              "[-sqrt(2), sqrt(2)]"
            ]
          },
          "metadata": {
            "tags": []
          },
          "execution_count": 58
        }
      ]
    },
    {
      "cell_type": "code",
      "metadata": {
        "id": "i1zAQbAne-hL",
        "colab_type": "code",
        "outputId": "b8dc3d86-f9a6-4025-cdf2-7a5e192fcda7",
        "colab": {
          "base_uri": "https://localhost:8080/",
          "height": 34
        }
      },
      "source": [
        "solve(cos(x),x) # The trig functions will return solutions between 0 and 2\\pi"
      ],
      "execution_count": 0,
      "outputs": [
        {
          "output_type": "execute_result",
          "data": {
            "text/plain": [
              "[pi/2, 3*pi/2]"
            ]
          },
          "metadata": {
            "tags": []
          },
          "execution_count": 60
        }
      ]
    },
    {
      "cell_type": "markdown",
      "metadata": {
        "id": "9gH3mHAvfjBC",
        "colab_type": "text"
      },
      "source": [
        "If we want to solve equations that are not of the form $f(x)=0$, we need to first manipulate the equations until they are in that form. For instance, to solve $x^2=2$, we need to move the $2$ over to get $x^2-2=0$."
      ]
    },
    {
      "cell_type": "markdown",
      "metadata": {
        "id": "t8Ps8hnwfxK8",
        "colab_type": "text"
      },
      "source": [
        "We can also find the intersection of two curves given by $f(x)$ and $g(x)$ respectively by solving $f(x)-g(x)=0$. For example, suppose you want to find where the parabola $y=x^2$ intersects the line $y=x$."
      ]
    },
    {
      "cell_type": "code",
      "metadata": {
        "id": "DMaL3CjVfWoM",
        "colab_type": "code",
        "outputId": "f95a68c8-dec3-48f8-e0cf-f7de9388f8ae",
        "colab": {
          "base_uri": "https://localhost:8080/",
          "height": 34
        }
      },
      "source": [
        "solve(x**2-x,x)"
      ],
      "execution_count": 0,
      "outputs": [
        {
          "output_type": "execute_result",
          "data": {
            "text/plain": [
              "[0, 1]"
            ]
          },
          "metadata": {
            "tags": []
          },
          "execution_count": 62
        }
      ]
    },
    {
      "cell_type": "markdown",
      "metadata": {
        "id": "eDx692WfggNQ",
        "colab_type": "text"
      },
      "source": [
        "If we look at the documentation for solve by running help(solve), we can see that solve does have some limitations in terms of the types of equations it can solve."
      ]
    },
    {
      "cell_type": "code",
      "metadata": {
        "id": "4i7OguFbgF6U",
        "colab_type": "code",
        "outputId": "7af77b3c-512b-41e5-90d0-046826020158",
        "colab": {
          "base_uri": "https://localhost:8080/",
          "height": 1000
        }
      },
      "source": [
        "help(solve)"
      ],
      "execution_count": 0,
      "outputs": [
        {
          "output_type": "stream",
          "text": [
            "Help on function solve in module sympy.solvers.solvers:\n",
            "\n",
            "solve(f, *symbols, **flags)\n",
            "    Algebraically solves equations and systems of equations.\n",
            "    \n",
            "    Currently supported are:\n",
            "        - polynomial,\n",
            "        - transcendental\n",
            "        - piecewise combinations of the above\n",
            "        - systems of linear and polynomial equations\n",
            "        - systems containing relational expressions.\n",
            "    \n",
            "    Input is formed as:\n",
            "    \n",
            "    * f\n",
            "        - a single Expr or Poly that must be zero,\n",
            "        - an Equality\n",
            "        - a Relational expression or boolean\n",
            "        - iterable of one or more of the above\n",
            "    \n",
            "    * symbols (object(s) to solve for) specified as\n",
            "        - none given (other non-numeric objects will be used)\n",
            "        - single symbol\n",
            "        - denested list of symbols\n",
            "          e.g. solve(f, x, y)\n",
            "        - ordered iterable of symbols\n",
            "          e.g. solve(f, [x, y])\n",
            "    \n",
            "    * flags\n",
            "        'dict'=True (default is False)\n",
            "            return list (perhaps empty) of solution mappings\n",
            "        'set'=True (default is False)\n",
            "            return list of symbols and set of tuple(s) of solution(s)\n",
            "        'exclude=[] (default)'\n",
            "            don't try to solve for any of the free symbols in exclude;\n",
            "            if expressions are given, the free symbols in them will\n",
            "            be extracted automatically.\n",
            "        'check=True (default)'\n",
            "            If False, don't do any testing of solutions. This can be\n",
            "            useful if one wants to include solutions that make any\n",
            "            denominator zero.\n",
            "        'numerical=True (default)'\n",
            "            do a fast numerical check if ``f`` has only one symbol.\n",
            "        'minimal=True (default is False)'\n",
            "            a very fast, minimal testing.\n",
            "        'warn=True (default is False)'\n",
            "            show a warning if checksol() could not conclude.\n",
            "        'simplify=True (default)'\n",
            "            simplify all but polynomials of order 3 or greater before\n",
            "            returning them and (if check is not False) use the\n",
            "            general simplify function on the solutions and the\n",
            "            expression obtained when they are substituted into the\n",
            "            function which should be zero\n",
            "        'force=True (default is False)'\n",
            "            make positive all symbols without assumptions regarding sign.\n",
            "        'rational=True (default)'\n",
            "            recast Floats as Rational; if this option is not used, the\n",
            "            system containing floats may fail to solve because of issues\n",
            "            with polys. If rational=None, Floats will be recast as\n",
            "            rationals but the answer will be recast as Floats. If the\n",
            "            flag is False then nothing will be done to the Floats.\n",
            "        'manual=True (default is False)'\n",
            "            do not use the polys/matrix method to solve a system of\n",
            "            equations, solve them one at a time as you might \"manually\"\n",
            "        'implicit=True (default is False)'\n",
            "            allows solve to return a solution for a pattern in terms of\n",
            "            other functions that contain that pattern; this is only\n",
            "            needed if the pattern is inside of some invertible function\n",
            "            like cos, exp, ....\n",
            "        'particular=True (default is False)'\n",
            "            instructs solve to try to find a particular solution to a linear\n",
            "            system with as many zeros as possible; this is very expensive\n",
            "        'quick=True (default is False)'\n",
            "            when using particular=True, use a fast heuristic instead to find a\n",
            "            solution with many zeros (instead of using the very slow method\n",
            "            guaranteed to find the largest number of zeros possible)\n",
            "        'cubics=True (default)'\n",
            "            return explicit solutions when cubic expressions are encountered\n",
            "        'quartics=True (default)'\n",
            "            return explicit solutions when quartic expressions are encountered\n",
            "        'quintics=True (default)'\n",
            "            return explicit solutions (if possible) when quintic expressions\n",
            "            are encountered\n",
            "    \n",
            "    Examples\n",
            "    ========\n",
            "    \n",
            "    The output varies according to the input and can be seen by example::\n",
            "    \n",
            "        >>> from sympy import solve, Poly, Eq, Function, exp\n",
            "        >>> from sympy.abc import x, y, z, a, b\n",
            "        >>> f = Function('f')\n",
            "    \n",
            "    * boolean or univariate Relational\n",
            "    \n",
            "        >>> solve(x < 3)\n",
            "        (-oo < x) & (x < 3)\n",
            "    \n",
            "    \n",
            "    * to always get a list of solution mappings, use flag dict=True\n",
            "    \n",
            "        >>> solve(x - 3, dict=True)\n",
            "        [{x: 3}]\n",
            "        >>> sol = solve([x - 3, y - 1], dict=True)\n",
            "        >>> sol\n",
            "        [{x: 3, y: 1}]\n",
            "        >>> sol[0][x]\n",
            "        3\n",
            "        >>> sol[0][y]\n",
            "        1\n",
            "    \n",
            "    \n",
            "    * to get a list of symbols and set of solution(s) use flag set=True\n",
            "    \n",
            "        >>> solve([x**2 - 3, y - 1], set=True)\n",
            "        ([x, y], {(-sqrt(3), 1), (sqrt(3), 1)})\n",
            "    \n",
            "    \n",
            "    * single expression and single symbol that is in the expression\n",
            "    \n",
            "        >>> solve(x - y, x)\n",
            "        [y]\n",
            "        >>> solve(x - 3, x)\n",
            "        [3]\n",
            "        >>> solve(Eq(x, 3), x)\n",
            "        [3]\n",
            "        >>> solve(Poly(x - 3), x)\n",
            "        [3]\n",
            "        >>> solve(x**2 - y**2, x, set=True)\n",
            "        ([x], {(-y,), (y,)})\n",
            "        >>> solve(x**4 - 1, x, set=True)\n",
            "        ([x], {(-1,), (1,), (-I,), (I,)})\n",
            "    \n",
            "    * single expression with no symbol that is in the expression\n",
            "    \n",
            "        >>> solve(3, x)\n",
            "        []\n",
            "        >>> solve(x - 3, y)\n",
            "        []\n",
            "    \n",
            "    * single expression with no symbol given\n",
            "    \n",
            "          In this case, all free symbols will be selected as potential\n",
            "          symbols to solve for. If the equation is univariate then a list\n",
            "          of solutions is returned; otherwise -- as is the case when symbols are\n",
            "          given as an iterable of length > 1 -- a list of mappings will be returned.\n",
            "    \n",
            "            >>> solve(x - 3)\n",
            "            [3]\n",
            "            >>> solve(x**2 - y**2)\n",
            "            [{x: -y}, {x: y}]\n",
            "            >>> solve(z**2*x**2 - z**2*y**2)\n",
            "            [{x: -y}, {x: y}, {z: 0}]\n",
            "            >>> solve(z**2*x - z**2*y**2)\n",
            "            [{x: y**2}, {z: 0}]\n",
            "    \n",
            "    * when an object other than a Symbol is given as a symbol, it is\n",
            "      isolated algebraically and an implicit solution may be obtained.\n",
            "      This is mostly provided as a convenience to save one from replacing\n",
            "      the object with a Symbol and solving for that Symbol. It will only\n",
            "      work if the specified object can be replaced with a Symbol using the\n",
            "      subs method.\n",
            "    \n",
            "          >>> solve(f(x) - x, f(x))\n",
            "          [x]\n",
            "          >>> solve(f(x).diff(x) - f(x) - x, f(x).diff(x))\n",
            "          [x + f(x)]\n",
            "          >>> solve(f(x).diff(x) - f(x) - x, f(x))\n",
            "          [-x + Derivative(f(x), x)]\n",
            "          >>> solve(x + exp(x)**2, exp(x), set=True)\n",
            "          ([exp(x)], {(-sqrt(-x),), (sqrt(-x),)})\n",
            "    \n",
            "          >>> from sympy import Indexed, IndexedBase, Tuple, sqrt\n",
            "          >>> A = IndexedBase('A')\n",
            "          >>> eqs = Tuple(A[1] + A[2] - 3, A[1] - A[2] + 1)\n",
            "          >>> solve(eqs, eqs.atoms(Indexed))\n",
            "          {A[1]: 1, A[2]: 2}\n",
            "    \n",
            "        * To solve for a *symbol* implicitly, use 'implicit=True':\n",
            "    \n",
            "            >>> solve(x + exp(x), x)\n",
            "            [-LambertW(1)]\n",
            "            >>> solve(x + exp(x), x, implicit=True)\n",
            "            [-exp(x)]\n",
            "    \n",
            "        * It is possible to solve for anything that can be targeted with\n",
            "          subs:\n",
            "    \n",
            "            >>> solve(x + 2 + sqrt(3), x + 2)\n",
            "            [-sqrt(3)]\n",
            "            >>> solve((x + 2 + sqrt(3), x + 4 + y), y, x + 2)\n",
            "            {y: -2 + sqrt(3), x + 2: -sqrt(3)}\n",
            "    \n",
            "        * Nothing heroic is done in this implicit solving so you may end up\n",
            "          with a symbol still in the solution:\n",
            "    \n",
            "            >>> eqs = (x*y + 3*y + sqrt(3), x + 4 + y)\n",
            "            >>> solve(eqs, y, x + 2)\n",
            "            {y: -sqrt(3)/(x + 3), x + 2: (-2*x - 6 + sqrt(3))/(x + 3)}\n",
            "            >>> solve(eqs, y*x, x)\n",
            "            {x: -y - 4, x*y: -3*y - sqrt(3)}\n",
            "    \n",
            "        * if you attempt to solve for a number remember that the number\n",
            "          you have obtained does not necessarily mean that the value is\n",
            "          equivalent to the expression obtained:\n",
            "    \n",
            "            >>> solve(sqrt(2) - 1, 1)\n",
            "            [sqrt(2)]\n",
            "            >>> solve(x - y + 1, 1)  # /!\\ -1 is targeted, too\n",
            "            [x/(y - 1)]\n",
            "            >>> [_.subs(z, -1) for _ in solve((x - y + 1).subs(-1, z), 1)]\n",
            "            [-x + y]\n",
            "    \n",
            "        * To solve for a function within a derivative, use dsolve.\n",
            "    \n",
            "    * single expression and more than 1 symbol\n",
            "    \n",
            "        * when there is a linear solution\n",
            "    \n",
            "            >>> solve(x - y**2, x, y)\n",
            "            [{x: y**2}]\n",
            "            >>> solve(x**2 - y, x, y)\n",
            "            [{y: x**2}]\n",
            "    \n",
            "        * when undetermined coefficients are identified\n",
            "    \n",
            "            * that are linear\n",
            "    \n",
            "                >>> solve((a + b)*x - b + 2, a, b)\n",
            "                {a: -2, b: 2}\n",
            "    \n",
            "            * that are nonlinear\n",
            "    \n",
            "                >>> solve((a + b)*x - b**2 + 2, a, b, set=True)\n",
            "                ([a, b], {(-sqrt(2), sqrt(2)), (sqrt(2), -sqrt(2))})\n",
            "    \n",
            "        * if there is no linear solution then the first successful\n",
            "          attempt for a nonlinear solution will be returned\n",
            "    \n",
            "            >>> solve(x**2 - y**2, x, y)\n",
            "            [{x: -y}, {x: y}]\n",
            "            >>> solve(x**2 - y**2/exp(x), x, y)\n",
            "            [{x: 2*LambertW(y/2)}]\n",
            "            >>> solve(x**2 - y**2/exp(x), y, x)\n",
            "            [{y: -x*sqrt(exp(x))}, {y: x*sqrt(exp(x))}]\n",
            "    \n",
            "    * iterable of one or more of the above\n",
            "    \n",
            "        * involving relationals or bools\n",
            "    \n",
            "            >>> solve([x < 3, x - 2])\n",
            "            Eq(x, 2)\n",
            "            >>> solve([x > 3, x - 2])\n",
            "            False\n",
            "    \n",
            "        * when the system is linear\n",
            "    \n",
            "            * with a solution\n",
            "    \n",
            "                >>> solve([x - 3], x)\n",
            "                {x: 3}\n",
            "                >>> solve((x + 5*y - 2, -3*x + 6*y - 15), x, y)\n",
            "                {x: -3, y: 1}\n",
            "                >>> solve((x + 5*y - 2, -3*x + 6*y - 15), x, y, z)\n",
            "                {x: -3, y: 1}\n",
            "                >>> solve((x + 5*y - 2, -3*x + 6*y - z), z, x, y)\n",
            "                {x: -5*y + 2, z: 21*y - 6}\n",
            "    \n",
            "            * without a solution\n",
            "    \n",
            "                >>> solve([x + 3, x - 3])\n",
            "                []\n",
            "    \n",
            "        * when the system is not linear\n",
            "    \n",
            "            >>> solve([x**2 + y -2, y**2 - 4], x, y, set=True)\n",
            "            ([x, y], {(-2, -2), (0, 2), (2, -2)})\n",
            "    \n",
            "        * if no symbols are given, all free symbols will be selected and a list\n",
            "          of mappings returned\n",
            "    \n",
            "            >>> solve([x - 2, x**2 + y])\n",
            "            [{x: 2, y: -4}]\n",
            "            >>> solve([x - 2, x**2 + f(x)], {f(x), x})\n",
            "            [{x: 2, f(x): -4}]\n",
            "    \n",
            "        * if any equation doesn't depend on the symbol(s) given it will be\n",
            "          eliminated from the equation set and an answer may be given\n",
            "          implicitly in terms of variables that were not of interest\n",
            "    \n",
            "            >>> solve([x - y, y - 3], x)\n",
            "            {x: y}\n",
            "    \n",
            "    Notes\n",
            "    =====\n",
            "    \n",
            "    solve() with check=True (default) will run through the symbol tags to\n",
            "    elimate unwanted solutions.  If no assumptions are included all possible\n",
            "    solutions will be returned.\n",
            "    \n",
            "        >>> from sympy import Symbol, solve\n",
            "        >>> x = Symbol(\"x\")\n",
            "        >>> solve(x**2 - 1)\n",
            "        [-1, 1]\n",
            "    \n",
            "    By using the positive tag only one solution will be returned:\n",
            "    \n",
            "        >>> pos = Symbol(\"pos\", positive=True)\n",
            "        >>> solve(pos**2 - 1)\n",
            "        [1]\n",
            "    \n",
            "    \n",
            "    Assumptions aren't checked when `solve()` input involves\n",
            "    relationals or bools.\n",
            "    \n",
            "    When the solutions are checked, those that make any denominator zero\n",
            "    are automatically excluded. If you do not want to exclude such solutions\n",
            "    then use the check=False option:\n",
            "    \n",
            "        >>> from sympy import sin, limit\n",
            "        >>> solve(sin(x)/x)  # 0 is excluded\n",
            "        [pi]\n",
            "    \n",
            "    If check=False then a solution to the numerator being zero is found: x = 0.\n",
            "    In this case, this is a spurious solution since sin(x)/x has the well known\n",
            "    limit (without dicontinuity) of 1 at x = 0:\n",
            "    \n",
            "        >>> solve(sin(x)/x, check=False)\n",
            "        [0, pi]\n",
            "    \n",
            "    In the following case, however, the limit exists and is equal to the the\n",
            "    value of x = 0 that is excluded when check=True:\n",
            "    \n",
            "        >>> eq = x**2*(1/x - z**2/x)\n",
            "        >>> solve(eq, x)\n",
            "        []\n",
            "        >>> solve(eq, x, check=False)\n",
            "        [0]\n",
            "        >>> limit(eq, x, 0, '-')\n",
            "        0\n",
            "        >>> limit(eq, x, 0, '+')\n",
            "        0\n",
            "    \n",
            "    Disabling high-order, explicit solutions\n",
            "    ----------------------------------------\n",
            "    \n",
            "    When solving polynomial expressions, one might not want explicit solutions\n",
            "    (which can be quite long). If the expression is univariate, CRootOf\n",
            "    instances will be returned instead:\n",
            "    \n",
            "        >>> solve(x**3 - x + 1)\n",
            "        [-1/((-1/2 - sqrt(3)*I/2)*(3*sqrt(69)/2 + 27/2)**(1/3)) - (-1/2 -\n",
            "        sqrt(3)*I/2)*(3*sqrt(69)/2 + 27/2)**(1/3)/3, -(-1/2 +\n",
            "        sqrt(3)*I/2)*(3*sqrt(69)/2 + 27/2)**(1/3)/3 - 1/((-1/2 +\n",
            "        sqrt(3)*I/2)*(3*sqrt(69)/2 + 27/2)**(1/3)), -(3*sqrt(69)/2 +\n",
            "        27/2)**(1/3)/3 - 1/(3*sqrt(69)/2 + 27/2)**(1/3)]\n",
            "        >>> solve(x**3 - x + 1, cubics=False)\n",
            "        [CRootOf(x**3 - x + 1, 0),\n",
            "         CRootOf(x**3 - x + 1, 1),\n",
            "         CRootOf(x**3 - x + 1, 2)]\n",
            "    \n",
            "        If the expression is multivariate, no solution might be returned:\n",
            "    \n",
            "        >>> solve(x**3 - x + a, x, cubics=False)\n",
            "        []\n",
            "    \n",
            "    Sometimes solutions will be obtained even when a flag is False because the\n",
            "    expression could be factored. In the following example, the equation can\n",
            "    be factored as the product of a linear and a quadratic factor so explicit\n",
            "    solutions (which did not require solving a cubic expression) are obtained:\n",
            "    \n",
            "        >>> eq = x**3 + 3*x**2 + x - 1\n",
            "        >>> solve(eq, cubics=False)\n",
            "        [-1, -1 + sqrt(2), -sqrt(2) - 1]\n",
            "    \n",
            "    Solving equations involving radicals\n",
            "    ------------------------------------\n",
            "    \n",
            "    Because of SymPy's use of the principle root (issue #8789), some solutions\n",
            "    to radical equations will be missed unless check=False:\n",
            "    \n",
            "        >>> from sympy import root\n",
            "        >>> eq = root(x**3 - 3*x**2, 3) + 1 - x\n",
            "        >>> solve(eq)\n",
            "        []\n",
            "        >>> solve(eq, check=False)\n",
            "        [1/3]\n",
            "    \n",
            "    In the above example there is only a single solution to the equation. Other\n",
            "    expressions will yield spurious roots which must be checked manually;\n",
            "    roots which give a negative argument to odd-powered radicals will also need\n",
            "    special checking:\n",
            "    \n",
            "        >>> from sympy import real_root, S\n",
            "        >>> eq = root(x, 3) - root(x, 5) + S(1)/7\n",
            "        >>> solve(eq)  # this gives 2 solutions but misses a 3rd\n",
            "        [CRootOf(7*_p**5 - 7*_p**3 + 1, 1)**15,\n",
            "        CRootOf(7*_p**5 - 7*_p**3 + 1, 2)**15]\n",
            "        >>> sol = solve(eq, check=False)\n",
            "        >>> [abs(eq.subs(x,i).n(2)) for i in sol]\n",
            "        [0.48, 0.e-110, 0.e-110, 0.052, 0.052]\n",
            "    \n",
            "        The first solution is negative so real_root must be used to see that\n",
            "        it satisfies the expression:\n",
            "    \n",
            "        >>> abs(real_root(eq.subs(x, sol[0])).n(2))\n",
            "        0.e-110\n",
            "    \n",
            "    If the roots of the equation are not real then more care will be necessary\n",
            "    to find the roots, especially for higher order equations. Consider the\n",
            "    following expression:\n",
            "    \n",
            "        >>> expr = root(x, 3) - root(x, 5)\n",
            "    \n",
            "    We will construct a known value for this expression at x = 3 by selecting\n",
            "    the 1-th root for each radical:\n",
            "    \n",
            "        >>> expr1 = root(x, 3, 1) - root(x, 5, 1)\n",
            "        >>> v = expr1.subs(x, -3)\n",
            "    \n",
            "    The solve function is unable to find any exact roots to this equation:\n",
            "    \n",
            "        >>> eq = Eq(expr, v); eq1 = Eq(expr1, v)\n",
            "        >>> solve(eq, check=False), solve(eq1, check=False)\n",
            "        ([], [])\n",
            "    \n",
            "    The function unrad, however, can be used to get a form of the equation for\n",
            "    which numerical roots can be found:\n",
            "    \n",
            "        >>> from sympy.solvers.solvers import unrad\n",
            "        >>> from sympy import nroots\n",
            "        >>> e, (p, cov) = unrad(eq)\n",
            "        >>> pvals = nroots(e)\n",
            "        >>> inversion = solve(cov, x)[0]\n",
            "        >>> xvals = [inversion.subs(p, i) for i in pvals]\n",
            "    \n",
            "    Although eq or eq1 could have been used to find xvals, the solution can\n",
            "    only be verified with expr1:\n",
            "    \n",
            "        >>> z = expr - v\n",
            "        >>> [xi.n(chop=1e-9) for xi in xvals if abs(z.subs(x, xi).n()) < 1e-9]\n",
            "        []\n",
            "        >>> z1 = expr1 - v\n",
            "        >>> [xi.n(chop=1e-9) for xi in xvals if abs(z1.subs(x, xi).n()) < 1e-9]\n",
            "        [-3.0]\n",
            "    \n",
            "    See Also\n",
            "    ========\n",
            "    \n",
            "        - rsolve() for solving recurrence relationships\n",
            "        - dsolve() for solving differential equations\n",
            "\n"
          ],
          "name": "stdout"
        }
      ]
    },
    {
      "cell_type": "markdown",
      "metadata": {
        "id": "VmMVU_MEgvKg",
        "colab_type": "text"
      },
      "source": [
        "# Plotting with Sympy"
      ]
    },
    {
      "cell_type": "markdown",
      "metadata": {
        "id": "pw54SDoshBou",
        "colab_type": "text"
      },
      "source": [
        "Sympy can also be used to plot/graph mathematical functions/expressions. To plot, we need to import sympy's plotting sub-package."
      ]
    },
    {
      "cell_type": "code",
      "metadata": {
        "id": "X9ZmHNqihJAl",
        "colab_type": "code",
        "colab": {}
      },
      "source": [
        "from sympy.plotting import plot"
      ],
      "execution_count": 0,
      "outputs": []
    },
    {
      "cell_type": "markdown",
      "metadata": {
        "id": "oDb0mMbChrPF",
        "colab_type": "text"
      },
      "source": [
        "Below are some examples of using the plot package."
      ]
    },
    {
      "cell_type": "code",
      "metadata": {
        "id": "p0SGM3vZhhld",
        "colab_type": "code",
        "outputId": "19cbae26-80a7-420a-e975-00be27a02ffd",
        "colab": {
          "base_uri": "https://localhost:8080/",
          "height": 295
        }
      },
      "source": [
        "plot(x**2)"
      ],
      "execution_count": 0,
      "outputs": [
        {
          "output_type": "display_data",
          "data": {
            "image/png": "[encoded data removed]",
            "text/plain": [
              "<Figure size 432x288 with 1 Axes>"
            ]
          },
          "metadata": {
            "tags": []
          }
        },
        {
          "output_type": "execute_result",
          "data": {
            "text/plain": [
              "<sympy.plotting.plot.Plot at 0x7f6e5f84e2e8>"
            ]
          },
          "metadata": {
            "tags": []
          },
          "execution_count": 67
        }
      ]
    },
    {
      "cell_type": "code",
      "metadata": {
        "id": "6GF52yMAhjEd",
        "colab_type": "code",
        "outputId": "ea700771-92e2-43a2-e3fc-c7f4afbf326d",
        "colab": {
          "base_uri": "https://localhost:8080/",
          "height": 277
        }
      },
      "source": [
        "plot(cos(x))"
      ],
      "execution_count": 0,
      "outputs": [
        {
          "output_type": "display_data",
          "data": {
            "image/png": "[encoded data removed]",
            "text/plain": [
              "<Figure size 432x288 with 1 Axes>"
            ]
          },
          "metadata": {
            "tags": []
          }
        },
        {
          "output_type": "execute_result",
          "data": {
            "text/plain": [
              "<sympy.plotting.plot.Plot at 0x7f6e5f72b080>"
            ]
          },
          "metadata": {
            "tags": []
          },
          "execution_count": 68
        }
      ]
    },
    {
      "cell_type": "markdown",
      "metadata": {
        "id": "-jNoaNA6hxeR",
        "colab_type": "text"
      },
      "source": [
        "Suppose we want to plot a curve like the elliptic curves we learned about during the first week. We can plot it in two parts by plotting $\\sqrt{x^3-3x+5}$, but this will create two separate graphs. Instead, we can use the function plot_implicit to graph it all at once."
      ]
    },
    {
      "cell_type": "code",
      "metadata": {
        "id": "yQsrc_sfi1r5",
        "colab_type": "code",
        "colab": {}
      },
      "source": [
        "from sympy.plotting import plot_implicit"
      ],
      "execution_count": 0,
      "outputs": []
    },
    {
      "cell_type": "code",
      "metadata": {
        "id": "NufwOj0Ii4nr",
        "colab_type": "code",
        "outputId": "839cfc17-427c-4fda-eec0-72602b8d80b2",
        "colab": {
          "base_uri": "https://localhost:8080/",
          "height": 272
        }
      },
      "source": [
        "plot_implicit(Eq(y**2,x**3-3*x+5),x,y)"
      ],
      "execution_count": 0,
      "outputs": [
        {
          "output_type": "display_data",
          "data": {
            "image/png": "[encoded data removed]",
            "text/plain": [
              "<Figure size 432x288 with 1 Axes>"
            ]
          },
          "metadata": {
            "tags": []
          }
        },
        {
          "output_type": "execute_result",
          "data": {
            "text/plain": [
              "<sympy.plotting.plot.Plot at 0x7f6e5f8dee48>"
            ]
          },
          "metadata": {
            "tags": []
          },
          "execution_count": 74
        }
      ]
    },
    {
      "cell_type": "markdown",
      "metadata": {
        "id": "Y8UXozhDjdN6",
        "colab_type": "text"
      },
      "source": [
        "# Exercises"
      ]
    },
    {
      "cell_type": "markdown",
      "metadata": {
        "id": "DaOzc1ygjflE",
        "colab_type": "text"
      },
      "source": [
        "Use Sympy to answer the following questions:\n",
        "\n",
        "\n",
        "*   What happens to $7+\\frac{10}{x}$ as $x\\rightarrow\\infty$?\n",
        "*   What happens to $7+\\frac{10}{x}$ as $x\\rightarrow0$?\n",
        "*   What happene to $7+\\frac{10}{x}$ as $x\\rightarrow-\\infty$?\n",
        "\n"
      ]
    },
    {
      "cell_type": "code",
      "metadata": {
        "id": "1q5i0n9bkSHj",
        "colab_type": "code",
        "colab": {}
      },
      "source": [
        ""
      ],
      "execution_count": 0,
      "outputs": []
    },
    {
      "cell_type": "markdown",
      "metadata": {
        "id": "nBn3YEC7kTIP",
        "colab_type": "text"
      },
      "source": [
        "Consider the curve given by $y=\\frac{x-1}{x-2}$.\n",
        "*  If $(x,10)$ is a point on the curve, find $x$.\n",
        "*  What happens to the curve as $x\\rightarrow3$?\n",
        "*  What happens to the curve as $x\\rightarrow2$?"
      ]
    },
    {
      "cell_type": "code",
      "metadata": {
        "id": "mkgidvPhksb8",
        "colab_type": "code",
        "colab": {}
      },
      "source": [
        ""
      ],
      "execution_count": 0,
      "outputs": []
    },
    {
      "cell_type": "markdown",
      "metadata": {
        "id": "tOQWGgQwk-TM",
        "colab_type": "text"
      },
      "source": [
        "Let $K$ be the graph of the equation $$y=\\frac{x+1}{x^2+x+1}.$$\n",
        "\n",
        "* Find every point where $K$ crosses the $x$-axis.\n",
        "* Find the highest point of $K$.\n",
        "* What happens to $K$ as $x\\rightarrow\\infty$?\n",
        "* What happens to $K$ as $x\\rightarrow-\\infty$?"
      ]
    },
    {
      "cell_type": "code",
      "metadata": {
        "id": "9EDgzKumlc_V",
        "colab_type": "code",
        "colab": {}
      },
      "source": [
        ""
      ],
      "execution_count": 0,
      "outputs": []
    },
    {
      "cell_type": "markdown",
      "metadata": {
        "id": "kaEOTIIomiP_",
        "colab_type": "text"
      },
      "source": [
        "Let $L$ be the horizontal line whose equation is $y=\\frac{1}{10000}$, and let $G$ be the graph whose equation is $y=\\frac{1}{x}$.\n",
        "* Show that there is some positive number $p$, such that $P=(p,\\frac{1}{p})$ of $G$ is between $L$ and the $x$-axis.\n",
        "* Is there a smallest positive number $p$ such that the point $(p,\\frac{1}{p})$ of $G$ is between $L$ and the $x$-axis?"
      ]
    },
    {
      "cell_type": "code",
      "metadata": {
        "id": "8ug1xsZvnBPY",
        "colab_type": "code",
        "colab": {}
      },
      "source": [
        ""
      ],
      "execution_count": 0,
      "outputs": []
    },
    {
      "cell_type": "markdown",
      "metadata": {
        "id": "qqF83i6Pn3O4",
        "colab_type": "text"
      },
      "source": [
        "If you need an extra challenge, look up the documentation for solving polynomial systems of equations [here](https://docs.sympy.org/latest/modules/solvers/solvers.html). Then, use the function solve_poly_system to find the result of adding the points $(-2,0)$ and $(0,\\sqrt{2})$ on the elliptic curve $y^2=x^3-3x+2$."
      ]
    },
    {
      "cell_type": "code",
      "metadata": {
        "id": "tMBD1GOCoGnm",
        "colab_type": "code",
        "colab": {}
      },
      "source": [
        ""
      ],
      "execution_count": 0,
      "outputs": []
    }
  ]
}